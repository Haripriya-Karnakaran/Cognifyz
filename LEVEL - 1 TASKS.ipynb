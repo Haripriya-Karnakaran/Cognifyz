{
 "cells": [
  {
   "cell_type": "markdown",
   "id": "e2972575",
   "metadata": {},
   "source": [
    "## LEVEL - 1"
   ]
  },
  {
   "cell_type": "markdown",
   "id": "e58e65de",
   "metadata": {},
   "source": [
    "### TASK - 1 STRING REVERSAL\n",
    "\n",
    "#### Create a Python function that takes a string as input and returns the reverse of that string. For example, if the input is  \"hello,\" the function should return \"olleh.\"\n"
   ]
  },
  {
   "cell_type": "code",
   "execution_count": 8,
   "id": "3ab64252",
   "metadata": {},
   "outputs": [
    {
     "name": "stdout",
     "output_type": "stream",
     "text": [
      "hello.\n",
      ".olleh"
     ]
    }
   ],
   "source": [
    "# Method 1 - iterating from the last letter\n",
    "\n",
    "def reverse1(x):\n",
    "    for i in range(len(x)-1,-1,-1):\n",
    "        print(x[i],end = \"\")\n",
    "reverse1(input())"
   ]
  },
  {
   "cell_type": "code",
   "execution_count": 10,
   "id": "76603428",
   "metadata": {},
   "outputs": [
    {
     "name": "stdout",
     "output_type": "stream",
     "text": [
      "Apple\n",
      "elppA\n"
     ]
    }
   ],
   "source": [
    "# Method 2 - using empty string\n",
    "\n",
    "def reverse2(x):\n",
    "    y = \"\"\n",
    "    for i in range(len(x)-1,-1,-1):\n",
    "        y = y + x[i]\n",
    "    print(y)\n",
    "reverse2(input())"
   ]
  },
  {
   "cell_type": "code",
   "execution_count": 11,
   "id": "8baaa20b",
   "metadata": {},
   "outputs": [
    {
     "name": "stdout",
     "output_type": "stream",
     "text": [
      "Letter\n",
      "retteL"
     ]
    }
   ],
   "source": [
    "# Method 3 - using slice notation\n",
    "\n",
    "def reverse3(x):\n",
    "    for i in x[::-1]:\n",
    "        print(i,end = \"\")\n",
    "reverse3(input())"
   ]
  },
  {
   "cell_type": "code",
   "execution_count": 12,
   "id": "29e57c2f",
   "metadata": {},
   "outputs": [
    {
     "name": "stdout",
     "output_type": "stream",
     "text": [
      "hello.\n",
      ".olleh"
     ]
    }
   ],
   "source": [
    "# Method 4 - using Reversed()\n",
    "\n",
    "def reverse4(x):\n",
    "    for i in reversed(x):\n",
    "        print(i,end = \"\")\n",
    "reverse4(input())"
   ]
  },
  {
   "cell_type": "code",
   "execution_count": 19,
   "id": "0a424d3e",
   "metadata": {},
   "outputs": [
    {
     "name": "stdout",
     "output_type": "stream",
     "text": [
      "hello.\n",
      ".olleh\n"
     ]
    }
   ],
   "source": [
    "# Method 5 - using reverse method in list\n",
    "\n",
    "def reverse5(x):\n",
    "    x.reverse()\n",
    "    print(\"\".join(x))\n",
    "reverse5(list(input()))"
   ]
  },
  {
   "cell_type": "markdown",
   "id": "e9c5e434",
   "metadata": {},
   "source": [
    "### TASK - 2  TEMPERATURE CONVERSION\n",
    "\n",
    "#### Create a Python program that converts temperatures between Celsius and Fahrenheit. Prompt the user to enter a temperature value and the unit of measurement, and then display the converted temperature."
   ]
  },
  {
   "cell_type": "code",
   "execution_count": 37,
   "id": "e2653224",
   "metadata": {},
   "outputs": [
    {
     "name": "stdout",
     "output_type": "stream",
     "text": [
      "86\n",
      "30\n",
      "Fahrenheit to celsius : 30.00\n",
      "Celsius to fahrenheit : 86.00\n"
     ]
    }
   ],
   "source": [
    "# Method 1 \n",
    "\n",
    "def temperature(Fahrenheit,Celsius):\n",
    "    fahrenheit_to_celsius = (Fahrenheit - 32) * 5/9\n",
    "    celsius_to_fahrenheit = (Celsius * 9/5) + 32\n",
    "    \n",
    "    print(f\"Fahrenheit to celsius : {fahrenheit_to_celsius:.2f}\")\n",
    "    print(f\"Celsius to fahrenheit : {celsius_to_fahrenheit:.2f}\")\n",
    "\n",
    "Fahrenheit = float(input())\n",
    "Celsius = float(input())\n",
    "\n",
    "temperature(Fahrenheit,Celsius)"
   ]
  },
  {
   "cell_type": "code",
   "execution_count": 38,
   "id": "4bb9025e",
   "metadata": {},
   "outputs": [
    {
     "name": "stdout",
     "output_type": "stream",
     "text": [
      "Enter Fahrenheit(F) or Celsius(C) : F\n",
      "Enter fahrenheit : 100\n",
      "From fahrenheit to celsius : 37.78\n"
     ]
    }
   ],
   "source": [
    "# Method 2\n",
    "\n",
    "def conversion(M):\n",
    "    if M == \"C\" or M == \"c\":\n",
    "        celsius = float(input(\"Enter celsius value : \"))\n",
    "        celsius_to_fahrenheit = (celsius * 9/5) + 32\n",
    "        print(f\"From celsius to Fahrenheit : {celsius_to_fahrenheit:.2f}\")\n",
    "        \n",
    "    elif M == \"F\" or M == \"f\":\n",
    "        fahrenheit = float(input(\"Enter fahrenheit : \"))\n",
    "        fahrenheit_to_celsius = (fahrenheit - 32) * 5/9\n",
    "        print(f\"From fahrenheit to celsius : {fahrenheit_to_celsius:.2f}\")\n",
    "        \n",
    "    else:\n",
    "        print(\"Invalid input\")\n",
    "\n",
    "M = input(\"Enter Fahrenheit(F) or Celsius(C) : \")\n",
    "conversion(M)"
   ]
  },
  {
   "cell_type": "markdown",
   "id": "6c53926b",
   "metadata": {},
   "source": [
    "### TASK - 3 EMAIL VALIDATOR\n",
    "\n",
    "#### Develop a Python function that validates whether a given string is a valid email address. Implement checks for the format, including the presence of an \"@\" symbol and a domain name"
   ]
  },
  {
   "cell_type": "code",
   "execution_count": 40,
   "id": "88795a3c",
   "metadata": {},
   "outputs": [
    {
     "name": "stdout",
     "output_type": "stream",
     "text": [
      "Enter email ID: abc123@gmail.com\n",
      "abc123@gmail.com is valid!!\n",
      "Enter email ID: @\n",
      "@ is invalid!\n",
      "Enter email ID: abcgmail.com\n",
      "abcgmail.com is invalid!\n",
      "Enter email ID: msg2.hari@gmail.com\n",
      "msg2.hari@gmail.com is valid!!\n",
      "Enter email ID: quit\n"
     ]
    }
   ],
   "source": [
    "# Method 1\n",
    "def email_validator():\n",
    "    \n",
    "    while True:\n",
    "        Email = input(\"Enter email ID: \")\n",
    "        if Email.lower() == \"quit\":\n",
    "            break\n",
    "        \n",
    "        try:\n",
    "            username,domain_part = Email.split(\"@\")\n",
    "        except ValueError:\n",
    "            print(f\"{Email} is invalid!\")\n",
    "            continue\n",
    "\n",
    "        if not username and not domain_part: # if local part and domain part are empty then invalid\n",
    "            print(f\"{Email} is invalid!\")\n",
    "            continue\n",
    "\n",
    "        Allowed_characters = set('abcdefghijklmnopqrstuvwxyz0123456789!#$%&\\'*+-/=?^_`{|}~.')\n",
    "        for i in username:\n",
    "            if i.lower() not in Allowed_characters:\n",
    "                print(f\"{Email} is invalid!\")\n",
    "                continue\n",
    "\n",
    "        domain = domain_part.split(\".\")  # to split subdomain and top-domain\n",
    "        if len(domain) < 2:\n",
    "            print(f\"{Email} is invalid!\")\n",
    "            continue\n",
    "        if len(domain[-1]) < 2:\n",
    "            print(f\"{Email} is invalid!\")\n",
    "            continue\n",
    "\n",
    "        print(f\"{Email} is valid!!\")  \n",
    "\n",
    "email_validator()"
   ]
  },
  {
   "cell_type": "code",
   "execution_count": 42,
   "id": "3681d752",
   "metadata": {},
   "outputs": [
    {
     "name": "stdout",
     "output_type": "stream",
     "text": [
      "abc123@gmail.com is valid\n"
     ]
    }
   ],
   "source": [
    "# Method - 2 Using regular expression\n",
    "import re\n",
    "\n",
    "def email_validator(email):\n",
    "\n",
    "    pattern = r'^[\\w!#$%&\\'*+\\-/=?^`{|}~]+(\\.[\\w!#$%&\\'*+\\-/=?^`{|}~]+)*@[a-zA-Z0-9]+([.-]?[a-zA-Z0-9]+)*\\.[a-zA-Z]{2,}$'\n",
    "\n",
    "    if re.match(pattern, email):\n",
    "        username, domain = email.split('@')\n",
    "\n",
    "        if len(username) > 64:\n",
    "            print(f\"{email} is invalid (username too long)\")\n",
    "\n",
    "        domain_parts = domain.split('.')\n",
    "        for part in domain_parts[:-1]:  \n",
    "            if len(part) > 63:\n",
    "                print(f\"{email} is invalid (domain part too long)\")\n",
    "\n",
    "        print(f\"{email} is valid\")\n",
    "    else:\n",
    "        print(f\"{email} is invalid\")\n",
    "email_validator(\"abc123@gmail.com\")"
   ]
  },
  {
   "cell_type": "code",
   "execution_count": 44,
   "id": "23acbc30",
   "metadata": {},
   "outputs": [
    {
     "name": "stdout",
     "output_type": "stream",
     "text": [
      "abc..@gmail.com is invalid\n"
     ]
    }
   ],
   "source": [
    "email_validator(\"abc..@gmail.com\")"
   ]
  },
  {
   "cell_type": "markdown",
   "id": "89d66424",
   "metadata": {},
   "source": [
    "### TASK - 4 CALCULATOR PROGRAM\n",
    "\n",
    "#### Create a Python program that acts as a basic calculator. It should prompt the user to enter two numbers and an operator (+, -, *, /,%), and then display the result of the operation."
   ]
  },
  {
   "cell_type": "code",
   "execution_count": 48,
   "id": "3d34e858",
   "metadata": {},
   "outputs": [
    {
     "name": "stdout",
     "output_type": "stream",
     "text": [
      "Enter a number: 200\n",
      "Enter a number: 3\n",
      "Enter a operator: *\n",
      "200.0 * 3.0 = 600.0\n"
     ]
    }
   ],
   "source": [
    "def calculator():\n",
    "    num1 = float(input(\"Enter a number: \"))\n",
    "    num2 = float(input(\"Enter a number: \"))\n",
    "    Operator = input(\"Enter a operator: \")\n",
    "    \n",
    "    if Operator == \"+\":\n",
    "        result = num1 + num2\n",
    "        print(f\"{num1} + {num2} = {result}\")\n",
    "    elif Operator == \"-\":\n",
    "        result = num1 - num2\n",
    "        print(f\"{num1} - {num2} = {result}\")\n",
    "    elif Operator == \"*\":\n",
    "        result = num1 * num2\n",
    "        print(f\"{num1} * {num2} = {result}\")\n",
    "    elif Operator == \"/\":\n",
    "        if num2 == 0:\n",
    "            print(\"Error : ZeroDivisionError\")\n",
    "        else:\n",
    "            result = num1 / num2\n",
    "            print(f\"{num1} / {num2} = {result}\")\n",
    "    elif Operator == \"%\":\n",
    "        if num2 == 0:\n",
    "            print(\"Error : ZeroDivisionError\")\n",
    "        else:\n",
    "            result = num1 % num2\n",
    "            print(f\"{num1} % {num2} = {result}\")\n",
    "    else:\n",
    "        print(\"Invalid\")\n",
    "        \n",
    "calculator()        "
   ]
  },
  {
   "cell_type": "code",
   "execution_count": 49,
   "id": "89ad9c2f",
   "metadata": {},
   "outputs": [
    {
     "name": "stdout",
     "output_type": "stream",
     "text": [
      "Enter a number: 2\n",
      "Enter a number: 0\n",
      "Enter a operator: %\n",
      "Error : ZeroDivisionError\n"
     ]
    }
   ],
   "source": [
    "calculator()"
   ]
  },
  {
   "cell_type": "code",
   "execution_count": 50,
   "id": "b6b62759",
   "metadata": {},
   "outputs": [
    {
     "name": "stdout",
     "output_type": "stream",
     "text": [
      "Enter a number: 200\n",
      "Enter a number: 14\n",
      "Enter a operator: /\n",
      "200.0 / 14.0 = 14.285714285714286\n"
     ]
    }
   ],
   "source": [
    "calculator()"
   ]
  },
  {
   "cell_type": "markdown",
   "id": "c9746e9d",
   "metadata": {},
   "source": [
    "### TASK - 5 PALINDROME CHECKER\n",
    "\n",
    "#### Write a Python function that checks whethera given string is a palindrome. A palindromeis a word, phrase, or sequence that reads thesame backward as forward (e.g., \"madam\" or\"racecar\")."
   ]
  },
  {
   "cell_type": "code",
   "execution_count": 9,
   "id": "ae1ef434",
   "metadata": {},
   "outputs": [
    {
     "name": "stdout",
     "output_type": "stream",
     "text": [
      "Enter a string: madam\n",
      "s1 : madam \n",
      "s2 : madam\n",
      "Palindrome\n"
     ]
    }
   ],
   "source": [
    "# Method - 1\n",
    "\n",
    "def palindrome():\n",
    "    s1 = input(\"Enter a string: \")\n",
    "    s2 = \"\"\n",
    "    for i in range(len(s1)-1,-1,-1):\n",
    "        s2 = s2 + s1[i]\n",
    "        \n",
    "    print(f\"s1 : {s1} \\ns2 : {s2}\")\n",
    "    \n",
    "    if s1 == s2:\n",
    "        print(\"Palindrome\")\n",
    "    else:\n",
    "        print(\"Not a palindrome\")\n",
    "palindrome()"
   ]
  },
  {
   "cell_type": "code",
   "execution_count": 10,
   "id": "f4fa19cc",
   "metadata": {},
   "outputs": [
    {
     "name": "stdout",
     "output_type": "stream",
     "text": [
      "Enter a string: apple\n",
      "s1 : apple \n",
      "s2 : elppa\n",
      "Not a palindrome\n"
     ]
    }
   ],
   "source": [
    "palindrome()"
   ]
  },
  {
   "cell_type": "code",
   "execution_count": 16,
   "id": "6796fe48",
   "metadata": {},
   "outputs": [
    {
     "name": "stdout",
     "output_type": "stream",
     "text": [
      "Enter a string: racecar\n",
      "It's a palindrome\n"
     ]
    }
   ],
   "source": [
    "# Method - 2\n",
    "\n",
    "def palindrome1():\n",
    "    s1 = input(\"Enter a string: \")\n",
    "    if s1 == s1[::-1]:\n",
    "        print(\"It's a palindrome\")\n",
    "    else:\n",
    "        print(\"It's not a palindrome\")\n",
    "palindrome1()"
   ]
  },
  {
   "cell_type": "code",
   "execution_count": 17,
   "id": "6e14691f",
   "metadata": {},
   "outputs": [
    {
     "name": "stdout",
     "output_type": "stream",
     "text": [
      "Enter a string: Teacher\n",
      "It's not a palindrome\n"
     ]
    }
   ],
   "source": [
    "palindrome1()"
   ]
  },
  {
   "cell_type": "code",
   "execution_count": null,
   "id": "db27506b",
   "metadata": {},
   "outputs": [],
   "source": []
  }
 ],
 "metadata": {
  "kernelspec": {
   "display_name": "Python 3 (ipykernel)",
   "language": "python",
   "name": "python3"
  },
  "language_info": {
   "codemirror_mode": {
    "name": "ipython",
    "version": 3
   },
   "file_extension": ".py",
   "mimetype": "text/x-python",
   "name": "python",
   "nbconvert_exporter": "python",
   "pygments_lexer": "ipython3",
   "version": "3.9.19"
  }
 },
 "nbformat": 4,
 "nbformat_minor": 5
}
