{
 "cells": [
  {
   "cell_type": "markdown",
   "id": "86370e86",
   "metadata": {},
   "source": [
    "## LEVEL - 2"
   ]
  },
  {
   "cell_type": "markdown",
   "id": "aa1fad85",
   "metadata": {},
   "source": [
    "### TASK - 1 GUESSING GAME\n",
    "\n",
    "#### Write a Python program that generates arandom number between 1 and 100. Theuser should then try to guess the number.The program should provide hints such as\"too high\" or \"too low\" until the correctnumber is guessed."
   ]
  },
  {
   "cell_type": "code",
   "execution_count": 4,
   "id": "687ffad8",
   "metadata": {},
   "outputs": [
    {
     "name": "stdout",
     "output_type": "stream",
     "text": [
      "Guess a number between 1 and 100: 60\n",
      "Oops!Too low.Try again\n",
      "Guess a number between 1 and 100: 80\n",
      "Oops! Too high.Try again\n",
      "Guess a number between 1 and 100: 70\n",
      "Oops!Too low.Try again\n",
      "Guess a number between 1 and 100: 75\n",
      "Oops! Too high.Try again\n",
      "Guess a number between 1 and 100: 73\n",
      "Oops! Too high.Try again\n",
      "Guess a number between 1 and 100: 72\n",
      "Oops! Too high.Try again\n",
      "Guess a number between 1 and 100: 71\n",
      "Congratulations! You guessed the number 71 in 7 attempts.\n",
      "Do you want to play again(y/n): y\n",
      "Guess a number between 1 and 100: 44\n",
      "Oops!Too low.Try again\n",
      "Guess a number between 1 and 100: 56\n",
      "Oops!Too low.Try again\n",
      "Guess a number between 1 and 100: 80\n",
      "Oops!Too low.Try again\n",
      "Guess a number between 1 and 100: 95\n",
      "Oops!Too low.Try again\n",
      "Guess a number between 1 and 100: 100\n",
      "Congratulations! You guessed the number 100 in 5 attempts.\n",
      "Do you want to play again(y/n): n\n",
      "Thank you for playing!\n"
     ]
    }
   ],
   "source": [
    "import random\n",
    "\n",
    "def guessing_game():\n",
    "    secret_number = random.randint(1,100)\n",
    "    attempts = 0\n",
    "    \n",
    "    while True:\n",
    "        try:\n",
    "            guess = int(input(\"Guess a number between 1 and 100: \"))\n",
    "        except ValueError:\n",
    "            print(\"Invalid input.Enter an integer.\")\n",
    "            continue\n",
    "        \n",
    "        attempts += 1\n",
    "        \n",
    "        if guess < 0 or guess > 100:\n",
    "            print(\"Your guess should be between 1 and 100.\")\n",
    "            continue\n",
    "        elif guess < secret_number:\n",
    "            print(\"Oops!Too low.Try again\")\n",
    "            continue\n",
    "        elif guess > secret_number:\n",
    "            print(\"Oops! Too high.Try again\")\n",
    "            continue\n",
    "        else:\n",
    "            print(f\"Congratulations! You guessed the number {secret_number} in {attempts} attempts.\")\n",
    "            play_again = input(\"Do you want to play again(y/n): \")\n",
    "            if play_again.lower() == \"y\":\n",
    "                guessing_game()\n",
    "                return\n",
    "            else:\n",
    "                print(\"Thank you for playing!\")\n",
    "                return\n",
    "guessing_game()            "
   ]
  },
  {
   "cell_type": "markdown",
   "id": "79a1917a",
   "metadata": {},
   "source": [
    "### TASK - 2  NUMBER GUESSOR\n",
    "\n",
    "#### Create a number guessing game where the program generates a random number between a specified range, and the user tries to guess it. Provide feedback to the user if their guess is too high or too low."
   ]
  },
  {
   "cell_type": "code",
   "execution_count": 7,
   "id": "0a05403b",
   "metadata": {},
   "outputs": [],
   "source": [
    "import random\n",
    "\n",
    "def number_guessor():\n",
    "    while True:\n",
    "        try:\n",
    "            start = int(input(\"Enter the start of the range: \"))\n",
    "            end = int(input(\"Enter the end of the range: \"))\n",
    "            if start > end:\n",
    "                print(\"Your start should be less than end\")\n",
    "                continue\n",
    "            break\n",
    "        except ValueError:\n",
    "            print(\"Invalid input.Please enter integer\")\n",
    "    \n",
    "    secret_number = random.randint(start,end)\n",
    "    attempts = 0\n",
    "    \n",
    "    while True:\n",
    "        try:\n",
    "            guess = int(input(\"Enter your guess within the specified range: \"))\n",
    "        except ValueError:\n",
    "            print(\"Invalid input.Please enter an integer.\")\n",
    "            continue\n",
    "        attempts += 1\n",
    "        \n",
    "        if guess < start or guess > end:\n",
    "            print(f\"Your guess should be between {start} and {end}\")\n",
    "            continue\n",
    "        elif guess < secret_number:\n",
    "            print(\"Oops! Too low.Try again\")\n",
    "            continue\n",
    "        elif guess > secret_number:\n",
    "            print(\"Oops! Too high.Try again\")\n",
    "            continue\n",
    "        else:\n",
    "            print(f\"Congraluations!,You guessed the number {secret_number} in {attempts} attempts.\")\n",
    "            play_again = input(\"Do you want to play again (y/n): \")\n",
    "            if play_again.lower() == \"y\":\n",
    "                number_guessor()\n",
    "                return\n",
    "            else:\n",
    "                print(\"Thank you for playing!\")\n",
    "                return"
   ]
  },
  {
   "cell_type": "code",
   "execution_count": 8,
   "id": "fe3c22b7",
   "metadata": {},
   "outputs": [
    {
     "name": "stdout",
     "output_type": "stream",
     "text": [
      "Enter the start of the range: 10\n",
      "Enter the end of the range: 5\n",
      "Your start should be less than end\n",
      "Enter the start of the range: 1\n",
      "Enter the end of the range: 50\n",
      "Enter your guess within the specified range: 40\n",
      "Oops! Too high.Try again\n",
      "Enter your guess within the specified range: 20\n",
      "Oops! Too low.Try again\n",
      "Enter your guess within the specified range: 30\n",
      "Oops! Too high.Try again\n",
      "Enter your guess within the specified range: 25\n",
      "Oops! Too high.Try again\n",
      "Enter your guess within the specified range: 23\n",
      "Congraluations!,You guessed the number 23 in 5 attempts.\n",
      "Do you want to play again (y/n): n\n",
      "Thank you for playing!\n"
     ]
    }
   ],
   "source": [
    "number_guessor()"
   ]
  },
  {
   "cell_type": "code",
   "execution_count": 9,
   "id": "408ae897",
   "metadata": {},
   "outputs": [
    {
     "name": "stdout",
     "output_type": "stream",
     "text": [
      "Enter the start of the range: sddf\n",
      "Invalid input.Please enter integer\n",
      "Enter the start of the range: 10\n",
      "Enter the end of the range: 30\n",
      "Enter your guess within the specified range: 20\n",
      "Oops! Too low.Try again\n",
      "Enter your guess within the specified range: 5\n",
      "Your guess should be between 10 and 30\n",
      "Enter your guess within the specified range: 25\n",
      "Oops! Too low.Try again\n",
      "Enter your guess within the specified range: 30\n",
      "Oops! Too high.Try again\n",
      "Enter your guess within the specified range: 27\n",
      "Oops! Too low.Try again\n",
      "Enter your guess within the specified range: 28\n",
      "Oops! Too low.Try again\n",
      "Enter your guess within the specified range: 29\n",
      "Congraluations!,You guessed the number 29 in 7 attempts.\n",
      "Do you want to play again (y/n): y\n",
      "Enter the start of the range: 1\n",
      "Enter the end of the range: 10\n",
      "Enter your guess within the specified range: 5\n",
      "Oops! Too low.Try again\n",
      "Enter your guess within the specified range: 8\n",
      "Oops! Too low.Try again\n",
      "Enter your guess within the specified range: 9\n",
      "Oops! Too low.Try again\n",
      "Enter your guess within the specified range: 10\n",
      "Congraluations!,You guessed the number 10 in 4 attempts.\n",
      "Do you want to play again (y/n): n\n",
      "Thank you for playing!\n"
     ]
    }
   ],
   "source": [
    "number_guessor()"
   ]
  },
  {
   "cell_type": "markdown",
   "id": "57de176d",
   "metadata": {},
   "source": [
    "### TASK - 3 PASSWORD STRENGTH CHECKER\n",
    "\n",
    "#### Create a Python function that evaluates the strength of a password entered by the user. Implement checks for factors such as length, presence of uppercase and lowercase letters, digits, and special characters."
   ]
  },
  {
   "cell_type": "code",
   "execution_count": 10,
   "id": "8f710063",
   "metadata": {},
   "outputs": [
    {
     "name": "stdout",
     "output_type": "stream",
     "text": [
      "Enter your password: abc123EFG@0\n",
      "Your password strength is very strong\n"
     ]
    }
   ],
   "source": [
    "def password_strength_checker():\n",
    "    password = input(\"Enter your password: \")\n",
    "    password_strength = 0\n",
    "\n",
    "    if len(password) < 8:\n",
    "        print(\"Your password is too short.It should be at least 8 characters long.\")\n",
    "        return\n",
    "\n",
    "    password_strength += 1  \n",
    "\n",
    "    if any(i.isdigit() for i in password):\n",
    "        password_strength += 1\n",
    "\n",
    "    if any(i.isupper() for i in password):\n",
    "        password_strength += 1\n",
    "\n",
    "    if any(i.islower() for i in password):\n",
    "        password_strength += 1\n",
    "\n",
    "    special_chars = '!@#$%^&*()_+-=\\[]{};:\"\\\\|,.<>/?~'\n",
    "    if any(i in special_chars for i in password):\n",
    "        password_strength += 1\n",
    "\n",
    "    if password_strength == 2:\n",
    "        print(\"Your password strength is weak\")\n",
    "    elif password_strength == 3:\n",
    "        print(\"Your password strength is moderate\")\n",
    "    elif password_strength == 4:\n",
    "        print(\"Your password strength is strong\")\n",
    "    elif password_strength >= 5:\n",
    "        print(\"Your password strength is very strong\")\n",
    "    else:\n",
    "        print(\"Your password strength is very weak\")\n",
    "\n",
    "password_strength_checker()\n"
   ]
  },
  {
   "cell_type": "code",
   "execution_count": 11,
   "id": "a74d8a7d",
   "metadata": {},
   "outputs": [
    {
     "name": "stdout",
     "output_type": "stream",
     "text": [
      "Enter your password: a123@A\n",
      "Your password is too short.It should be at least 8 characters long.\n"
     ]
    }
   ],
   "source": [
    "import re\n",
    "\n",
    "def password_checker():\n",
    "    password = input(\"Enter your password: \")\n",
    "    password_strength = 0\n",
    "\n",
    "    if len(password) < 8:\n",
    "        print(\"Your password is too short.It should be at least 8 characters long.\")\n",
    "        return\n",
    "    password_strength += 1 \n",
    "\n",
    "    if re.search(r'[A-Z]', password):\n",
    "        password_strength += 1\n",
    "\n",
    "    if re.search(r'[a-z]', password):\n",
    "        password_strength += 1\n",
    "\n",
    "    if re.search(r'\\d', password):\n",
    "        password_strength += 1\n",
    "\n",
    "    special_chars = r'[!@#$%^&*()_+\\-=\\[\\]{};:\"\\\\|,.<>\\/?~]'\n",
    "    if re.search(special_chars, password):\n",
    "        password_strength += 1\n",
    "\n",
    "    if password_strength == 2:\n",
    "        print(\"Your password strength is weak\")\n",
    "    elif password_strength == 3:\n",
    "        print(\"Your password strength is moderate\")\n",
    "    elif password_strength == 4:\n",
    "        print(\"Your password strength is strong\")\n",
    "    elif password_strength >= 5:\n",
    "        print(\"Your password strength is very strong\")\n",
    "    else:\n",
    "        print(\"Your password strength is very weak\")\n",
    "        \n",
    "password_checker()"
   ]
  },
  {
   "cell_type": "code",
   "execution_count": 12,
   "id": "0e000ec1",
   "metadata": {},
   "outputs": [
    {
     "name": "stdout",
     "output_type": "stream",
     "text": [
      "Enter your password: 123456789\n",
      "Your password strength is weak\n"
     ]
    }
   ],
   "source": [
    "password_checker()"
   ]
  },
  {
   "cell_type": "code",
   "execution_count": 13,
   "id": "59faf886",
   "metadata": {},
   "outputs": [
    {
     "name": "stdout",
     "output_type": "stream",
     "text": [
      "Enter your password: ABC@123efg\n",
      "Your password strength is very strong\n"
     ]
    }
   ],
   "source": [
    "password_checker()"
   ]
  },
  {
   "cell_type": "markdown",
   "id": "ab359be2",
   "metadata": {},
   "source": [
    "### TASK - 4 FIBONACCI SEQUENCE\n",
    "\n",
    "#### Write a Python function that generates the Fibonacci sequence up to a given number of terms. The function should take an integer input from the user and display the Fibonacci sequence up to that number of terms."
   ]
  },
  {
   "cell_type": "code",
   "execution_count": 12,
   "id": "cb3a07d4",
   "metadata": {},
   "outputs": [
    {
     "name": "stdout",
     "output_type": "stream",
     "text": [
      "Enter number of terms: 20\n",
      "The fibonacci sequence for 20 terms is [0, 1, 1, 2, 3, 5, 8, 13, 21, 34, 55, 89, 144, 233, 377, 610, 987, 1597, 2584, 4181]\n"
     ]
    }
   ],
   "source": [
    "def fibonacci_sequence(n):\n",
    "    if n <= 0:\n",
    "        return []\n",
    "    elif n == 1:\n",
    "        return [0]\n",
    "    elif n == 2:\n",
    "        return [0,1]\n",
    "    else:\n",
    "        fib_sequence = [0,1]\n",
    "        for i in range(2,n):\n",
    "            next_term = fib_sequence[i - 1] + fib_sequence[i - 2]\n",
    "            fib_sequence.append(next_term)\n",
    "        return fib_sequence\n",
    "    \n",
    "no_of_terms = int(input(\"Enter number of terms: \"))\n",
    "fibo_seq = fibonacci_sequence(no_of_terms)\n",
    "print(f\"The fibonacci sequence for {no_of_terms} terms is {fibo_seq}\")"
   ]
  },
  {
   "cell_type": "code",
   "execution_count": 13,
   "id": "8fee36cf",
   "metadata": {},
   "outputs": [
    {
     "name": "stdout",
     "output_type": "stream",
     "text": [
      "Enter the number of terms: 50\n",
      "The fibonacci sequence for 50 terms is [0, 1, 1, 2, 3, 5, 8, 13, 21, 34, 55, 89, 144, 233, 377, 610, 987, 1597, 2584, 4181, 6765, 10946, 17711, 28657, 46368, 75025, 121393, 196418, 317811, 514229, 832040, 1346269, 2178309, 3524578, 5702887, 9227465, 14930352, 24157817, 39088169, 63245986, 102334155, 165580141, 267914296, 433494437, 701408733, 1134903170, 1836311903, 2971215073, 4807526976, 7778742049]\n"
     ]
    }
   ],
   "source": [
    "# using generator\n",
    "\n",
    "def fibonacci_generator(n):\n",
    "    a,b = 0,1\n",
    "    for i in range(n):\n",
    "        yield a\n",
    "        a,b = b,a + b\n",
    "no_of_terms = int(input(\"Enter the number of terms: \"))\n",
    "fib_sequence = list(fibonacci_generator(no_of_terms))\n",
    "print(f\"The fibonacci sequence for {no_of_terms} terms is {fib_sequence}\")"
   ]
  },
  {
   "cell_type": "markdown",
   "id": "89dcbdee",
   "metadata": {},
   "source": [
    "### TASK - 5 FILE MANIPULATION\n",
    "\n",
    "#### Write a Python program that reads a text file and counts the occurrences of each word in the file. Display the results in alphabetical order along with their respective counts."
   ]
  },
  {
   "cell_type": "code",
   "execution_count": 7,
   "id": "e3816e26",
   "metadata": {},
   "outputs": [
    {
     "name": "stdout",
     "output_type": "stream",
     "text": [
      "count of each word in the file 'Demofile.txt':\n",
      "a: 2\n",
      "applications: 1\n",
      "be: 1\n",
      "can: 1\n",
      "create: 1\n",
      "is: 1\n",
      "language.: 1\n",
      "on: 1\n",
      "popular: 1\n",
      "programming: 1\n",
      "python: 2\n",
      "server: 1\n",
      "to: 1\n",
      "used: 1\n",
      "web: 1\n"
     ]
    }
   ],
   "source": [
    "def word_occurrences(file_path):\n",
    "    try:\n",
    "        with open(file_path, 'r', encoding='utf-8') as file:\n",
    "            text = file.read().lower()\n",
    "    except FileNotFoundError:\n",
    "        print(f\"Error: File '{file_path}' not found.\")\n",
    "        return\n",
    "\n",
    "    word_counts = {}\n",
    "    words = text.split()\n",
    "\n",
    "    for word in words:\n",
    "        if word in word_counts:\n",
    "            word_counts[word] += 1\n",
    "        else:\n",
    "            word_counts[word] = 1\n",
    "    sorted_wordcount = sorted(word_counts.items())\n",
    "\n",
    "    print(f\"count of each word in the file '{file_path}':\")\n",
    "    for i,j in sorted_wordcount:\n",
    "        print(f\"{i}: {j}\")\n",
    "\n",
    "file_path = 'Demofile.txt' # In demofile,Python is a popular programming language. Python can be used on a server to create web applications\n",
    "word_occurrences(file_path)"
   ]
  },
  {
   "cell_type": "code",
   "execution_count": 8,
   "id": "403aa9e3",
   "metadata": {},
   "outputs": [
    {
     "name": "stdout",
     "output_type": "stream",
     "text": [
      "a:2\n",
      "applications:1\n",
      "be:1\n",
      "can:1\n",
      "create:1\n",
      "is:1\n",
      "language.:1\n",
      "on:1\n",
      "popular:1\n",
      "programming:1\n",
      "python:2\n",
      "server:1\n",
      "to:1\n",
      "used:1\n",
      "web:1\n"
     ]
    }
   ],
   "source": [
    "f = open(\"Demofile.txt\",\"r\")\n",
    "file = f.read().lower()\n",
    "d = {}\n",
    "\n",
    "f1 = file.split()\n",
    "for i in f1:\n",
    "    if i in d:\n",
    "        d[i] = d[i] + 1\n",
    "    else:\n",
    "        d[i] = 1\n",
    "sorted_word_count = sorted(d.items())\n",
    "for i,j in sorted_word_count:\n",
    "    print(f\"{i}:{j}\")"
   ]
  },
  {
   "cell_type": "code",
   "execution_count": null,
   "id": "ea895c4b",
   "metadata": {},
   "outputs": [],
   "source": []
  }
 ],
 "metadata": {
  "kernelspec": {
   "display_name": "Python 3 (ipykernel)",
   "language": "python",
   "name": "python3"
  },
  "language_info": {
   "codemirror_mode": {
    "name": "ipython",
    "version": 3
   },
   "file_extension": ".py",
   "mimetype": "text/x-python",
   "name": "python",
   "nbconvert_exporter": "python",
   "pygments_lexer": "ipython3",
   "version": "3.9.19"
  }
 },
 "nbformat": 4,
 "nbformat_minor": 5
}
